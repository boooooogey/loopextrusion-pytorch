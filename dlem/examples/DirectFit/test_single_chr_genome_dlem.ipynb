{
 "cells": [
  {
   "cell_type": "code",
   "execution_count": null,
   "metadata": {},
   "outputs": [],
   "source": [
    "import torch\n",
    "import pandas as pd\n",
    "\n",
    "from dlem.dlem_genome import dlem_notebook\n",
    "\n",
    "cooler_file = '/Users/tina/LoopExtrusion/data/H1.mcool'\n",
    "output_path = f'/Users/tina/LoopExtrusion/results/chr10_test.tsv'\n",
    "resolution = 10_000\n",
    "window_size = 200\n",
    "stride = 50\n",
    "dev_name ='cpu'\n",
    "\n",
    "df_result = dlem_notebook(cooler_file, output_path, resolution, \n",
    "                          model_name=\"minimal_dlem\", window_size=window_size, stride=stride,\n",
    "                          chrom_subset=['chr10'], perc_nan_threshold=0.3, lr=0.5, \n",
    "                          reader_name='datareader_cooler', dev_name=dev_name, do_return_result=True)\n"
   ]
  },
  {
   "cell_type": "code",
   "execution_count": null,
   "metadata": {},
   "outputs": [],
   "source": []
  }
 ],
 "metadata": {
  "language_info": {
   "name": "python"
  }
 },
 "nbformat": 4,
 "nbformat_minor": 2
}
