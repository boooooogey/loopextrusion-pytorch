{
 "cells": [
  {
   "cell_type": "code",
   "execution_count": 2,
   "metadata": {},
   "outputs": [],
   "source": [
    "import torch\n",
    "import numpy as np\n",
    "import os\n",
    "import matplotlib.pyplot as plt\n",
    "from dlem import util\n",
    "from dlem import load_reader"
   ]
  },
  {
   "cell_type": "code",
   "execution_count": 3,
   "metadata": {},
   "outputs": [],
   "source": [
    "data_seq = load_reader(\"datareader_w_seq_memmap_index\")(\n",
    "    \"../../../loopextrusion_data_creation/.data/akita_data_w_seqindx_res_10k_ps_120\",\n",
    "    sub_select=np.array([1,2,3])) # Selecting ctcf and dnase"
   ]
  },
  {
   "cell_type": "code",
   "execution_count": 6,
   "metadata": {},
   "outputs": [
    {
     "data": {
      "text/plain": [
       "{'RES': 10000,\n",
       " 'PATCH_SIZE': 120,\n",
       " 'BW_FILES': ['H1_CTCF_ENCFF038RVZ.bigWig', 'H1_DNAse_ENCFF232GUZ.bigWig'],\n",
       " 'SEQ_FEA_FILES': ['sequence_features_pos_10000.tsv',\n",
       "  'sequence_features_neg_10000.tsv'],\n",
       " 'START_DIAG': 3,\n",
       " 'STOP_DIAG': 80,\n",
       " 'PATCH_DIM': 120,\n",
       " 'PATCH_LEN': 6083,\n",
       " 'FEA_DIM': 4,\n",
       " 'REGION_FILE': 'sequences.bed',\n",
       " 'COOLER_FILE': '4DNFI9GMP2J8.mcool',\n",
       " 'SAMPLE_NUM': 5841,\n",
       " 'SEQUENCE_OFFSET': 1000,\n",
       " 'GENOME_FILE': 'hg38'}"
      ]
     },
     "execution_count": 6,
     "metadata": {},
     "output_type": "execute_result"
    }
   ],
   "source": [
    "data_seq.args"
   ]
  },
  {
   "cell_type": "code",
   "execution_count": 5,
   "metadata": {},
   "outputs": [],
   "source": [
    "data = load_reader(\"datareader\")(\".data/dlem_training\", subselection=[1,2,3])"
   ]
  },
  {
   "cell_type": "code",
   "execution_count": 7,
   "metadata": {},
   "outputs": [
    {
     "data": {
      "text/plain": [
       "{'RES': 10000,\n",
       " 'PATCH_SIZE': 120,\n",
       " 'BW_FILES': ['H1_CTCF_ENCFF038RVZ.bigWig', 'H1_DNAse_ENCFF232GUZ.bigWig'],\n",
       " 'SEQ_FEA_FILES': ['sequence_features_pos_10000.tsv',\n",
       "  'sequence_features_neg_10000.tsv'],\n",
       " 'START_DIAG': 3,\n",
       " 'STOP_DIAG': 80,\n",
       " 'PATCH_DIM': 120,\n",
       " 'PATCH_LEN': 6083,\n",
       " 'FEA_DIM': 4,\n",
       " 'REGION_FILE': 'sequences.bed',\n",
       " 'COOLER_FILE': '4DNFI9GMP2J8.mcool',\n",
       " 'SAMPLE_NUM': 5555}"
      ]
     },
     "execution_count": 7,
     "metadata": {},
     "output_type": "execute_result"
    }
   ],
   "source": [
    "data.args"
   ]
  },
  {
   "cell_type": "code",
   "execution_count": null,
   "metadata": {},
   "outputs": [],
   "source": []
  }
 ],
 "metadata": {
  "kernelspec": {
   "display_name": "Python 3",
   "language": "python",
   "name": "python3"
  },
  "language_info": {
   "codemirror_mode": {
    "name": "ipython",
    "version": 3
   },
   "file_extension": ".py",
   "mimetype": "text/x-python",
   "name": "python",
   "nbconvert_exporter": "python",
   "pygments_lexer": "ipython3",
   "version": "3.11.9"
  }
 },
 "nbformat": 4,
 "nbformat_minor": 2
}
