{
 "cells": [
  {
   "cell_type": "code",
   "execution_count": 33,
   "metadata": {},
   "outputs": [],
   "source": [
    "import pandas as pd\n",
    "import numpy as np\n",
    "import matplotlib.pyplot as plt"
   ]
  },
  {
   "cell_type": "code",
   "execution_count": 3,
   "metadata": {},
   "outputs": [],
   "source": [
    "data = pd.read_csv('.data/test.tsv', sep='\\t')"
   ]
  },
  {
   "cell_type": "code",
   "execution_count": 4,
   "metadata": {},
   "outputs": [
    {
     "data": {
      "text/html": [
       "<div>\n",
       "<style scoped>\n",
       "    .dataframe tbody tr th:only-of-type {\n",
       "        vertical-align: middle;\n",
       "    }\n",
       "\n",
       "    .dataframe tbody tr th {\n",
       "        vertical-align: top;\n",
       "    }\n",
       "\n",
       "    .dataframe thead th {\n",
       "        text-align: right;\n",
       "    }\n",
       "</style>\n",
       "<table border=\"1\" class=\"dataframe\">\n",
       "  <thead>\n",
       "    <tr style=\"text-align: right;\">\n",
       "      <th></th>\n",
       "      <th>chrom</th>\n",
       "      <th>start</th>\n",
       "      <th>end</th>\n",
       "      <th>patch_i</th>\n",
       "      <th>max_corr</th>\n",
       "      <th>perc_nan</th>\n",
       "      <th>left</th>\n",
       "      <th>right</th>\n",
       "    </tr>\n",
       "  </thead>\n",
       "  <tbody>\n",
       "    <tr>\n",
       "      <th>0</th>\n",
       "      <td>chr1</td>\n",
       "      <td>0</td>\n",
       "      <td>10000</td>\n",
       "      <td>0</td>\n",
       "      <td>0.308831</td>\n",
       "      <td>0.283333</td>\n",
       "      <td>0.95</td>\n",
       "      <td>1.000000</td>\n",
       "    </tr>\n",
       "    <tr>\n",
       "      <th>1</th>\n",
       "      <td>chr1</td>\n",
       "      <td>10000</td>\n",
       "      <td>20000</td>\n",
       "      <td>0</td>\n",
       "      <td>0.308831</td>\n",
       "      <td>0.283333</td>\n",
       "      <td>0.95</td>\n",
       "      <td>1.000000</td>\n",
       "    </tr>\n",
       "    <tr>\n",
       "      <th>2</th>\n",
       "      <td>chr1</td>\n",
       "      <td>20000</td>\n",
       "      <td>30000</td>\n",
       "      <td>0</td>\n",
       "      <td>0.308831</td>\n",
       "      <td>0.283333</td>\n",
       "      <td>0.95</td>\n",
       "      <td>0.999582</td>\n",
       "    </tr>\n",
       "    <tr>\n",
       "      <th>3</th>\n",
       "      <td>chr1</td>\n",
       "      <td>30000</td>\n",
       "      <td>40000</td>\n",
       "      <td>0</td>\n",
       "      <td>0.308831</td>\n",
       "      <td>0.283333</td>\n",
       "      <td>1.00</td>\n",
       "      <td>0.998379</td>\n",
       "    </tr>\n",
       "    <tr>\n",
       "      <th>4</th>\n",
       "      <td>chr1</td>\n",
       "      <td>40000</td>\n",
       "      <td>50000</td>\n",
       "      <td>0</td>\n",
       "      <td>0.308831</td>\n",
       "      <td>0.283333</td>\n",
       "      <td>1.00</td>\n",
       "      <td>0.999884</td>\n",
       "    </tr>\n",
       "    <tr>\n",
       "      <th>...</th>\n",
       "      <td>...</td>\n",
       "      <td>...</td>\n",
       "      <td>...</td>\n",
       "      <td>...</td>\n",
       "      <td>...</td>\n",
       "      <td>...</td>\n",
       "      <td>...</td>\n",
       "      <td>...</td>\n",
       "    </tr>\n",
       "    <tr>\n",
       "      <th>607495</th>\n",
       "      <td>chrY</td>\n",
       "      <td>56950000</td>\n",
       "      <td>56960000</td>\n",
       "      <td>2024</td>\n",
       "      <td>NaN</td>\n",
       "      <td>0.953333</td>\n",
       "      <td>NaN</td>\n",
       "      <td>NaN</td>\n",
       "    </tr>\n",
       "    <tr>\n",
       "      <th>607496</th>\n",
       "      <td>chrY</td>\n",
       "      <td>56960000</td>\n",
       "      <td>56970000</td>\n",
       "      <td>2024</td>\n",
       "      <td>NaN</td>\n",
       "      <td>0.953333</td>\n",
       "      <td>NaN</td>\n",
       "      <td>NaN</td>\n",
       "    </tr>\n",
       "    <tr>\n",
       "      <th>607497</th>\n",
       "      <td>chrY</td>\n",
       "      <td>56970000</td>\n",
       "      <td>56980000</td>\n",
       "      <td>2024</td>\n",
       "      <td>NaN</td>\n",
       "      <td>0.953333</td>\n",
       "      <td>NaN</td>\n",
       "      <td>NaN</td>\n",
       "    </tr>\n",
       "    <tr>\n",
       "      <th>607498</th>\n",
       "      <td>chrY</td>\n",
       "      <td>56980000</td>\n",
       "      <td>56990000</td>\n",
       "      <td>2024</td>\n",
       "      <td>NaN</td>\n",
       "      <td>0.953333</td>\n",
       "      <td>NaN</td>\n",
       "      <td>NaN</td>\n",
       "    </tr>\n",
       "    <tr>\n",
       "      <th>607499</th>\n",
       "      <td>chrY</td>\n",
       "      <td>56990000</td>\n",
       "      <td>57000000</td>\n",
       "      <td>2024</td>\n",
       "      <td>NaN</td>\n",
       "      <td>0.953333</td>\n",
       "      <td>NaN</td>\n",
       "      <td>NaN</td>\n",
       "    </tr>\n",
       "  </tbody>\n",
       "</table>\n",
       "<p>607500 rows × 8 columns</p>\n",
       "</div>"
      ],
      "text/plain": [
       "       chrom     start       end  patch_i  max_corr  perc_nan  left     right\n",
       "0       chr1         0     10000        0  0.308831  0.283333  0.95  1.000000\n",
       "1       chr1     10000     20000        0  0.308831  0.283333  0.95  1.000000\n",
       "2       chr1     20000     30000        0  0.308831  0.283333  0.95  0.999582\n",
       "3       chr1     30000     40000        0  0.308831  0.283333  1.00  0.998379\n",
       "4       chr1     40000     50000        0  0.308831  0.283333  1.00  0.999884\n",
       "...      ...       ...       ...      ...       ...       ...   ...       ...\n",
       "607495  chrY  56950000  56960000     2024       NaN  0.953333   NaN       NaN\n",
       "607496  chrY  56960000  56970000     2024       NaN  0.953333   NaN       NaN\n",
       "607497  chrY  56970000  56980000     2024       NaN  0.953333   NaN       NaN\n",
       "607498  chrY  56980000  56990000     2024       NaN  0.953333   NaN       NaN\n",
       "607499  chrY  56990000  57000000     2024       NaN  0.953333   NaN       NaN\n",
       "\n",
       "[607500 rows x 8 columns]"
      ]
     },
     "execution_count": 4,
     "metadata": {},
     "output_type": "execute_result"
    }
   ],
   "source": [
    "data"
   ]
  },
  {
   "cell_type": "code",
   "execution_count": 12,
   "metadata": {},
   "outputs": [],
   "source": [
    "data_chr1 = data.loc[data['chrom'] == 'chr1']"
   ]
  },
  {
   "cell_type": "code",
   "execution_count": 13,
   "metadata": {},
   "outputs": [
    {
     "data": {
      "text/html": [
       "<div>\n",
       "<style scoped>\n",
       "    .dataframe tbody tr th:only-of-type {\n",
       "        vertical-align: middle;\n",
       "    }\n",
       "\n",
       "    .dataframe tbody tr th {\n",
       "        vertical-align: top;\n",
       "    }\n",
       "\n",
       "    .dataframe thead th {\n",
       "        text-align: right;\n",
       "    }\n",
       "</style>\n",
       "<table border=\"1\" class=\"dataframe\">\n",
       "  <thead>\n",
       "    <tr style=\"text-align: right;\">\n",
       "      <th></th>\n",
       "      <th>chrom</th>\n",
       "      <th>start</th>\n",
       "      <th>end</th>\n",
       "      <th>patch_i</th>\n",
       "      <th>max_corr</th>\n",
       "      <th>perc_nan</th>\n",
       "      <th>left</th>\n",
       "      <th>right</th>\n",
       "    </tr>\n",
       "  </thead>\n",
       "  <tbody>\n",
       "    <tr>\n",
       "      <th>0</th>\n",
       "      <td>chr1</td>\n",
       "      <td>0</td>\n",
       "      <td>10000</td>\n",
       "      <td>0</td>\n",
       "      <td>0.308831</td>\n",
       "      <td>0.283333</td>\n",
       "      <td>0.950000</td>\n",
       "      <td>1.000000</td>\n",
       "    </tr>\n",
       "    <tr>\n",
       "      <th>1</th>\n",
       "      <td>chr1</td>\n",
       "      <td>10000</td>\n",
       "      <td>20000</td>\n",
       "      <td>0</td>\n",
       "      <td>0.308831</td>\n",
       "      <td>0.283333</td>\n",
       "      <td>0.950000</td>\n",
       "      <td>1.000000</td>\n",
       "    </tr>\n",
       "    <tr>\n",
       "      <th>2</th>\n",
       "      <td>chr1</td>\n",
       "      <td>20000</td>\n",
       "      <td>30000</td>\n",
       "      <td>0</td>\n",
       "      <td>0.308831</td>\n",
       "      <td>0.283333</td>\n",
       "      <td>0.950000</td>\n",
       "      <td>0.999582</td>\n",
       "    </tr>\n",
       "    <tr>\n",
       "      <th>3</th>\n",
       "      <td>chr1</td>\n",
       "      <td>30000</td>\n",
       "      <td>40000</td>\n",
       "      <td>0</td>\n",
       "      <td>0.308831</td>\n",
       "      <td>0.283333</td>\n",
       "      <td>1.000000</td>\n",
       "      <td>0.998379</td>\n",
       "    </tr>\n",
       "    <tr>\n",
       "      <th>4</th>\n",
       "      <td>chr1</td>\n",
       "      <td>40000</td>\n",
       "      <td>50000</td>\n",
       "      <td>0</td>\n",
       "      <td>0.308831</td>\n",
       "      <td>0.283333</td>\n",
       "      <td>1.000000</td>\n",
       "      <td>0.999884</td>\n",
       "    </tr>\n",
       "    <tr>\n",
       "      <th>...</th>\n",
       "      <td>...</td>\n",
       "      <td>...</td>\n",
       "      <td>...</td>\n",
       "      <td>...</td>\n",
       "      <td>...</td>\n",
       "      <td>...</td>\n",
       "      <td>...</td>\n",
       "      <td>...</td>\n",
       "    </tr>\n",
       "    <tr>\n",
       "      <th>49195</th>\n",
       "      <td>chr1</td>\n",
       "      <td>247450000</td>\n",
       "      <td>247460000</td>\n",
       "      <td>163</td>\n",
       "      <td>0.036991</td>\n",
       "      <td>0.000000</td>\n",
       "      <td>0.450098</td>\n",
       "      <td>0.450692</td>\n",
       "    </tr>\n",
       "    <tr>\n",
       "      <th>49196</th>\n",
       "      <td>chr1</td>\n",
       "      <td>247460000</td>\n",
       "      <td>247470000</td>\n",
       "      <td>163</td>\n",
       "      <td>0.036991</td>\n",
       "      <td>0.000000</td>\n",
       "      <td>1.000000</td>\n",
       "      <td>1.000000</td>\n",
       "    </tr>\n",
       "    <tr>\n",
       "      <th>49197</th>\n",
       "      <td>chr1</td>\n",
       "      <td>247470000</td>\n",
       "      <td>247480000</td>\n",
       "      <td>163</td>\n",
       "      <td>0.036991</td>\n",
       "      <td>0.000000</td>\n",
       "      <td>1.000000</td>\n",
       "      <td>0.950000</td>\n",
       "    </tr>\n",
       "    <tr>\n",
       "      <th>49198</th>\n",
       "      <td>chr1</td>\n",
       "      <td>247480000</td>\n",
       "      <td>247490000</td>\n",
       "      <td>163</td>\n",
       "      <td>0.036991</td>\n",
       "      <td>0.000000</td>\n",
       "      <td>0.450027</td>\n",
       "      <td>0.950000</td>\n",
       "    </tr>\n",
       "    <tr>\n",
       "      <th>49199</th>\n",
       "      <td>chr1</td>\n",
       "      <td>247490000</td>\n",
       "      <td>247500000</td>\n",
       "      <td>163</td>\n",
       "      <td>0.036991</td>\n",
       "      <td>0.000000</td>\n",
       "      <td>1.000000</td>\n",
       "      <td>0.950000</td>\n",
       "    </tr>\n",
       "  </tbody>\n",
       "</table>\n",
       "<p>49200 rows × 8 columns</p>\n",
       "</div>"
      ],
      "text/plain": [
       "      chrom      start        end  patch_i  max_corr  perc_nan      left  \\\n",
       "0      chr1          0      10000        0  0.308831  0.283333  0.950000   \n",
       "1      chr1      10000      20000        0  0.308831  0.283333  0.950000   \n",
       "2      chr1      20000      30000        0  0.308831  0.283333  0.950000   \n",
       "3      chr1      30000      40000        0  0.308831  0.283333  1.000000   \n",
       "4      chr1      40000      50000        0  0.308831  0.283333  1.000000   \n",
       "...     ...        ...        ...      ...       ...       ...       ...   \n",
       "49195  chr1  247450000  247460000      163  0.036991  0.000000  0.450098   \n",
       "49196  chr1  247460000  247470000      163  0.036991  0.000000  1.000000   \n",
       "49197  chr1  247470000  247480000      163  0.036991  0.000000  1.000000   \n",
       "49198  chr1  247480000  247490000      163  0.036991  0.000000  0.450027   \n",
       "49199  chr1  247490000  247500000      163  0.036991  0.000000  1.000000   \n",
       "\n",
       "          right  \n",
       "0      1.000000  \n",
       "1      1.000000  \n",
       "2      0.999582  \n",
       "3      0.998379  \n",
       "4      0.999884  \n",
       "...         ...  \n",
       "49195  0.450692  \n",
       "49196  1.000000  \n",
       "49197  0.950000  \n",
       "49198  0.950000  \n",
       "49199  0.950000  \n",
       "\n",
       "[49200 rows x 8 columns]"
      ]
     },
     "execution_count": 13,
     "metadata": {},
     "output_type": "execute_result"
    }
   ],
   "source": [
    "data_chr1"
   ]
  },
  {
   "cell_type": "code",
   "execution_count": 18,
   "metadata": {},
   "outputs": [],
   "source": [
    "patch_num = max(data_chr1.patch_i.to_numpy())"
   ]
  },
  {
   "cell_type": "code",
   "execution_count": 29,
   "metadata": {},
   "outputs": [],
   "source": [
    "even_second_half = np.concatenate([i * 300 + np.arange(150,300) for i in range(0, patch_num, 2)])\n",
    "odd_first_half = np.concatenate([i * 300 + np.arange(0,150) for i in range(1, patch_num + patch_num % 2, 2)])"
   ]
  },
  {
   "cell_type": "code",
   "execution_count": 34,
   "metadata": {},
   "outputs": [],
   "source": [
    "overlap_even = data.iloc[even_second_half]"
   ]
  },
  {
   "cell_type": "code",
   "execution_count": 35,
   "metadata": {},
   "outputs": [],
   "source": [
    "overlap_odd = data.iloc[odd_first_half]"
   ]
  },
  {
   "cell_type": "code",
   "execution_count": 42,
   "metadata": {},
   "outputs": [],
   "source": [
    "overlap_merged = pd.merge(overlap_even.iloc[:,[0,1,2,6,7]], overlap_odd.iloc[:,[0,1,2,6,7]], on=[\"chrom\", \"start\", \"end\"], suffixes=('_even', '_odd'))"
   ]
  },
  {
   "cell_type": "code",
   "execution_count": 43,
   "metadata": {},
   "outputs": [
    {
     "data": {
      "text/plain": [
       "[<matplotlib.lines.Line2D at 0x7b1f4b9b1d10>]"
      ]
     },
     "execution_count": 43,
     "metadata": {},
     "output_type": "execute_result"
    },
    {
     "data": {
      "image/png": "[encoded data removed]",
      "text/plain": [
       "<Figure size 640x480 with 1 Axes>"
      ]
     },
     "metadata": {},
     "output_type": "display_data"
    }
   ],
   "source": [
    "plt.plot(overlap_merged[\"left_even\"], overlap_merged[\"left_odd\"], 'o')"
   ]
  },
  {
   "cell_type": "code",
   "execution_count": 44,
   "metadata": {},
   "outputs": [
    {
     "data": {
      "text/plain": [
       "[<matplotlib.lines.Line2D at 0x7b1f476cf590>]"
      ]
     },
     "execution_count": 44,
     "metadata": {},
     "output_type": "execute_result"
    },
    {
     "data": {
      "image/png": "[encoded data removed]",
      "text/plain": [
       "<Figure size 640x480 with 1 Axes>"
      ]
     },
     "metadata": {},
     "output_type": "display_data"
    }
   ],
   "source": [
    "plt.plot(overlap_merged[\"right_even\"], overlap_merged[\"right_odd\"], 'o')"
   ]
  },
  {
   "cell_type": "code",
   "execution_count": 49,
   "metadata": {},
   "outputs": [
    {
     "data": {
      "text/plain": [
       "0.6731463571886037"
      ]
     },
     "execution_count": 49,
     "metadata": {},
     "output_type": "execute_result"
    }
   ],
   "source": [
    "nan_mas = np.logical_and(np.logical_not(np.isnan(overlap_merged[\"left_even\"])), np.logical_not(np.isnan(overlap_merged[\"left_odd\"])))\n",
    "np.corrcoef(overlap_merged[\"left_even\"].to_numpy()[nan_mas], overlap_merged[\"left_odd\"].to_numpy()[nan_mas])[0,1]"
   ]
  },
  {
   "cell_type": "code",
   "execution_count": 50,
   "metadata": {},
   "outputs": [
    {
     "data": {
      "text/plain": [
       "0.6620914516663865"
      ]
     },
     "execution_count": 50,
     "metadata": {},
     "output_type": "execute_result"
    }
   ],
   "source": [
    "np.corrcoef(overlap_merged[\"right_even\"].to_numpy()[nan_mas], overlap_merged[\"right_odd\"].to_numpy()[nan_mas])[0,1]"
   ]
  },
  {
   "cell_type": "code",
   "execution_count": 54,
   "metadata": {},
   "outputs": [
    {
     "data": {
      "text/html": [
       "<div>\n",
       "<style scoped>\n",
       "    .dataframe tbody tr th:only-of-type {\n",
       "        vertical-align: middle;\n",
       "    }\n",
       "\n",
       "    .dataframe tbody tr th {\n",
       "        vertical-align: top;\n",
       "    }\n",
       "\n",
       "    .dataframe thead th {\n",
       "        text-align: right;\n",
       "    }\n",
       "</style>\n",
       "<table border=\"1\" class=\"dataframe\">\n",
       "  <thead>\n",
       "    <tr style=\"text-align: right;\">\n",
       "      <th></th>\n",
       "      <th>start</th>\n",
       "      <th>end</th>\n",
       "      <th>patch_i</th>\n",
       "      <th>max_corr</th>\n",
       "      <th>perc_nan</th>\n",
       "      <th>left</th>\n",
       "      <th>right</th>\n",
       "    </tr>\n",
       "  </thead>\n",
       "  <tbody>\n",
       "    <tr>\n",
       "      <th>count</th>\n",
       "      <td>6.075000e+05</td>\n",
       "      <td>6.075000e+05</td>\n",
       "      <td>607500.000000</td>\n",
       "      <td>546900.000000</td>\n",
       "      <td>607500.000000</td>\n",
       "      <td>5.469000e+05</td>\n",
       "      <td>5.469000e+05</td>\n",
       "    </tr>\n",
       "    <tr>\n",
       "      <th>mean</th>\n",
       "      <td>7.664611e+07</td>\n",
       "      <td>7.665611e+07</td>\n",
       "      <td>1012.000000</td>\n",
       "      <td>0.047607</td>\n",
       "      <td>0.095542</td>\n",
       "      <td>8.100472e-01</td>\n",
       "      <td>8.102625e-01</td>\n",
       "    </tr>\n",
       "    <tr>\n",
       "      <th>std</th>\n",
       "      <td>5.442468e+07</td>\n",
       "      <td>5.442468e+07</td>\n",
       "      <td>584.567557</td>\n",
       "      <td>0.051061</td>\n",
       "      <td>0.260580</td>\n",
       "      <td>2.504037e-01</td>\n",
       "      <td>2.503571e-01</td>\n",
       "    </tr>\n",
       "    <tr>\n",
       "      <th>min</th>\n",
       "      <td>0.000000e+00</td>\n",
       "      <td>1.000000e+04</td>\n",
       "      <td>0.000000</td>\n",
       "      <td>0.008265</td>\n",
       "      <td>0.000000</td>\n",
       "      <td>1.000000e-09</td>\n",
       "      <td>1.000000e-09</td>\n",
       "    </tr>\n",
       "    <tr>\n",
       "      <th>25%</th>\n",
       "      <td>3.239000e+07</td>\n",
       "      <td>3.240000e+07</td>\n",
       "      <td>506.000000</td>\n",
       "      <td>0.028353</td>\n",
       "      <td>0.000000</td>\n",
       "      <td>4.506460e-01</td>\n",
       "      <td>4.506550e-01</td>\n",
       "    </tr>\n",
       "    <tr>\n",
       "      <th>50%</th>\n",
       "      <td>6.663000e+07</td>\n",
       "      <td>6.664000e+07</td>\n",
       "      <td>1012.000000</td>\n",
       "      <td>0.035523</td>\n",
       "      <td>0.000000</td>\n",
       "      <td>9.500000e-01</td>\n",
       "      <td>9.500000e-01</td>\n",
       "    </tr>\n",
       "    <tr>\n",
       "      <th>75%</th>\n",
       "      <td>1.120400e+08</td>\n",
       "      <td>1.120500e+08</td>\n",
       "      <td>1518.000000</td>\n",
       "      <td>0.044805</td>\n",
       "      <td>0.006667</td>\n",
       "      <td>1.000000e+00</td>\n",
       "      <td>1.000000e+00</td>\n",
       "    </tr>\n",
       "    <tr>\n",
       "      <th>max</th>\n",
       "      <td>2.474900e+08</td>\n",
       "      <td>2.475000e+08</td>\n",
       "      <td>2024.000000</td>\n",
       "      <td>0.450784</td>\n",
       "      <td>1.000000</td>\n",
       "      <td>1.000000e+00</td>\n",
       "      <td>1.000000e+00</td>\n",
       "    </tr>\n",
       "  </tbody>\n",
       "</table>\n",
       "</div>"
      ],
      "text/plain": [
       "              start           end        patch_i       max_corr  \\\n",
       "count  6.075000e+05  6.075000e+05  607500.000000  546900.000000   \n",
       "mean   7.664611e+07  7.665611e+07    1012.000000       0.047607   \n",
       "std    5.442468e+07  5.442468e+07     584.567557       0.051061   \n",
       "min    0.000000e+00  1.000000e+04       0.000000       0.008265   \n",
       "25%    3.239000e+07  3.240000e+07     506.000000       0.028353   \n",
       "50%    6.663000e+07  6.664000e+07    1012.000000       0.035523   \n",
       "75%    1.120400e+08  1.120500e+08    1518.000000       0.044805   \n",
       "max    2.474900e+08  2.475000e+08    2024.000000       0.450784   \n",
       "\n",
       "            perc_nan          left         right  \n",
       "count  607500.000000  5.469000e+05  5.469000e+05  \n",
       "mean        0.095542  8.100472e-01  8.102625e-01  \n",
       "std         0.260580  2.504037e-01  2.503571e-01  \n",
       "min         0.000000  1.000000e-09  1.000000e-09  \n",
       "25%         0.000000  4.506460e-01  4.506550e-01  \n",
       "50%         0.000000  9.500000e-01  9.500000e-01  \n",
       "75%         0.006667  1.000000e+00  1.000000e+00  \n",
       "max         1.000000  1.000000e+00  1.000000e+00  "
      ]
     },
     "execution_count": 54,
     "metadata": {},
     "output_type": "execute_result"
    }
   ],
   "source": [
    "data.describe()"
   ]
  },
  {
   "cell_type": "code",
   "execution_count": 53,
   "metadata": {},
   "outputs": [
    {
     "data": {
      "text/plain": [
       "(array([475800.,  36900.,   5100.,   6600.,   6300.,   6300.,   6000.,\n",
       "          1500.,   1800.,    600.]),\n",
       " array([0.00826491, 0.05251687, 0.09676883, 0.14102079, 0.18527274,\n",
       "        0.2295247 , 0.27377666, 0.31802862, 0.36228057, 0.40653253,\n",
       "        0.45078449]),\n",
       " <BarContainer object of 10 artists>)"
      ]
     },
     "execution_count": 53,
     "metadata": {},
     "output_type": "execute_result"
    },
    {
     "data": {
      "image/png": "[encoded data removed]",
      "text/plain": [
       "<Figure size 640x480 with 1 Axes>"
      ]
     },
     "metadata": {},
     "output_type": "display_data"
    }
   ],
   "source": [
    "plt.hist(data[\"max_corr\"])"
   ]
  },
  {
   "cell_type": "code",
   "execution_count": null,
   "metadata": {},
   "outputs": [],
   "source": []
  }
 ],
 "metadata": {
  "kernelspec": {
   "display_name": "Python 3",
   "language": "python",
   "name": "python3"
  },
  "language_info": {
   "codemirror_mode": {
    "name": "ipython",
    "version": 3
   },
   "file_extension": ".py",
   "mimetype": "text/x-python",
   "name": "python",
   "nbconvert_exporter": "python",
   "pygments_lexer": "ipython3",
   "version": "3.11.9"
  }
 },
 "nbformat": 4,
 "nbformat_minor": 2
}
